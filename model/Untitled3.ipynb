{
 "cells": [
  {
   "cell_type": "code",
   "execution_count": 1,
   "metadata": {},
   "outputs": [],
   "source": [
    "import pandas as pd\n",
    "import numpy as np\n",
    "import matplotlib.pyplot as plt\n",
    "\n",
    "from sklearn.preprocessing import PolynomialFeatures\n",
    "from sklearn.linear_model import LinearRegression"
   ]
  },
  {
   "cell_type": "code",
   "execution_count": 2,
   "metadata": {},
   "outputs": [],
   "source": [
    "import pandas as pd\n",
    "import seaborn as sns\n",
    "import matplotlib.pyplot as plt\n",
    "import numpy as np\n",
    "from scipy import stats"
   ]
  },
  {
   "cell_type": "code",
   "execution_count": 3,
   "metadata": {},
   "outputs": [],
   "source": [
    "ss=pd.read_csv(\"bitcoins.csv\")"
   ]
  },
  {
   "cell_type": "code",
   "execution_count": 4,
   "metadata": {},
   "outputs": [
    {
     "data": {
      "text/html": [
       "<div>\n",
       "<style scoped>\n",
       "    .dataframe tbody tr th:only-of-type {\n",
       "        vertical-align: middle;\n",
       "    }\n",
       "\n",
       "    .dataframe tbody tr th {\n",
       "        vertical-align: top;\n",
       "    }\n",
       "\n",
       "    .dataframe thead th {\n",
       "        text-align: right;\n",
       "    }\n",
       "</style>\n",
       "<table border=\"1\" class=\"dataframe\">\n",
       "  <thead>\n",
       "    <tr style=\"text-align: right;\">\n",
       "      <th></th>\n",
       "      <th>date</th>\n",
       "      <th>Open</th>\n",
       "      <th>High</th>\n",
       "      <th>Low</th>\n",
       "      <th>close</th>\n",
       "      <th>Vol.</th>\n",
       "      <th>Change %</th>\n",
       "    </tr>\n",
       "  </thead>\n",
       "  <tbody>\n",
       "    <tr>\n",
       "      <th>0</th>\n",
       "      <td>18-Jul-10</td>\n",
       "      <td>0</td>\n",
       "      <td>0.1</td>\n",
       "      <td>0.1</td>\n",
       "      <td>0.1</td>\n",
       "      <td>0.08K</td>\n",
       "      <td>0.00%</td>\n",
       "    </tr>\n",
       "    <tr>\n",
       "      <th>1</th>\n",
       "      <td>19-Jul-10</td>\n",
       "      <td>0.1</td>\n",
       "      <td>0.1</td>\n",
       "      <td>0.1</td>\n",
       "      <td>0.1</td>\n",
       "      <td>0.57K</td>\n",
       "      <td>0.00%</td>\n",
       "    </tr>\n",
       "    <tr>\n",
       "      <th>2</th>\n",
       "      <td>20-Jul-10</td>\n",
       "      <td>0.1</td>\n",
       "      <td>0.1</td>\n",
       "      <td>0.1</td>\n",
       "      <td>0.1</td>\n",
       "      <td>0.26K</td>\n",
       "      <td>0.00%</td>\n",
       "    </tr>\n",
       "    <tr>\n",
       "      <th>3</th>\n",
       "      <td>21-Jul-10</td>\n",
       "      <td>0.1</td>\n",
       "      <td>0.1</td>\n",
       "      <td>0.1</td>\n",
       "      <td>0.1</td>\n",
       "      <td>0.58K</td>\n",
       "      <td>0.00%</td>\n",
       "    </tr>\n",
       "    <tr>\n",
       "      <th>4</th>\n",
       "      <td>22-Jul-10</td>\n",
       "      <td>0.1</td>\n",
       "      <td>0.1</td>\n",
       "      <td>0.1</td>\n",
       "      <td>0.1</td>\n",
       "      <td>2.16K</td>\n",
       "      <td>0.00%</td>\n",
       "    </tr>\n",
       "    <tr>\n",
       "      <th>...</th>\n",
       "      <td>...</td>\n",
       "      <td>...</td>\n",
       "      <td>...</td>\n",
       "      <td>...</td>\n",
       "      <td>...</td>\n",
       "      <td>...</td>\n",
       "      <td>...</td>\n",
       "    </tr>\n",
       "    <tr>\n",
       "      <th>4122</th>\n",
       "      <td>30-Oct-21</td>\n",
       "      <td>62,245.00</td>\n",
       "      <td>62,338.50</td>\n",
       "      <td>60,786.00</td>\n",
       "      <td>61840.1</td>\n",
       "      <td>40.51K</td>\n",
       "      <td>-0.65%</td>\n",
       "    </tr>\n",
       "    <tr>\n",
       "      <th>4123</th>\n",
       "      <td>31-Oct-21</td>\n",
       "      <td>61,842.20</td>\n",
       "      <td>62,393.70</td>\n",
       "      <td>60,005.70</td>\n",
       "      <td>61309.6</td>\n",
       "      <td>50.06K</td>\n",
       "      <td>-0.86%</td>\n",
       "    </tr>\n",
       "    <tr>\n",
       "      <th>4124</th>\n",
       "      <td>01-Nov-21</td>\n",
       "      <td>61,310.10</td>\n",
       "      <td>62,430.10</td>\n",
       "      <td>59,612.70</td>\n",
       "      <td>60915.3</td>\n",
       "      <td>61.21K</td>\n",
       "      <td>-0.64%</td>\n",
       "    </tr>\n",
       "    <tr>\n",
       "      <th>4125</th>\n",
       "      <td>02-Nov-21</td>\n",
       "      <td>60,912.20</td>\n",
       "      <td>64,256.40</td>\n",
       "      <td>60,651.50</td>\n",
       "      <td>63221.7</td>\n",
       "      <td>65.26K</td>\n",
       "      <td>3.79%</td>\n",
       "    </tr>\n",
       "    <tr>\n",
       "      <th>4126</th>\n",
       "      <td>03-Nov-21</td>\n",
       "      <td>63,223.50</td>\n",
       "      <td>63,508.60</td>\n",
       "      <td>62,810.70</td>\n",
       "      <td>62896.7</td>\n",
       "      <td>64.92K</td>\n",
       "      <td>-0.51%</td>\n",
       "    </tr>\n",
       "  </tbody>\n",
       "</table>\n",
       "<p>4127 rows × 7 columns</p>\n",
       "</div>"
      ],
      "text/plain": [
       "           date       Open       High        Low    close    Vol. Change %\n",
       "0     18-Jul-10          0        0.1        0.1      0.1   0.08K    0.00%\n",
       "1     19-Jul-10        0.1        0.1        0.1      0.1   0.57K    0.00%\n",
       "2     20-Jul-10        0.1        0.1        0.1      0.1   0.26K    0.00%\n",
       "3     21-Jul-10        0.1        0.1        0.1      0.1   0.58K    0.00%\n",
       "4     22-Jul-10        0.1        0.1        0.1      0.1   2.16K    0.00%\n",
       "...         ...        ...        ...        ...      ...     ...      ...\n",
       "4122  30-Oct-21  62,245.00  62,338.50  60,786.00  61840.1  40.51K   -0.65%\n",
       "4123  31-Oct-21  61,842.20  62,393.70  60,005.70  61309.6  50.06K   -0.86%\n",
       "4124  01-Nov-21  61,310.10  62,430.10  59,612.70  60915.3  61.21K   -0.64%\n",
       "4125  02-Nov-21  60,912.20  64,256.40  60,651.50  63221.7  65.26K    3.79%\n",
       "4126  03-Nov-21  63,223.50  63,508.60  62,810.70  62896.7  64.92K   -0.51%\n",
       "\n",
       "[4127 rows x 7 columns]"
      ]
     },
     "execution_count": 4,
     "metadata": {},
     "output_type": "execute_result"
    }
   ],
   "source": [
    "ss"
   ]
  },
  {
   "cell_type": "code",
   "execution_count": 5,
   "metadata": {},
   "outputs": [],
   "source": [
    "ss['date'] = pd.to_datetime(ss['date'])"
   ]
  },
  {
   "cell_type": "code",
   "execution_count": 6,
   "metadata": {},
   "outputs": [
    {
     "name": "stderr",
     "output_type": "stream",
     "text": [
      "<ipython-input-6-0c7a00c14b51>:5: FutureWarning: Series.dt.weekofyear and Series.dt.week have been deprecated.  Please use Series.dt.isocalendar().week instead.\n",
      "  ss['WeekOfYear'] = ss['date'].dt.weekofyear\n"
     ]
    },
    {
     "data": {
      "text/html": [
       "<div>\n",
       "<style scoped>\n",
       "    .dataframe tbody tr th:only-of-type {\n",
       "        vertical-align: middle;\n",
       "    }\n",
       "\n",
       "    .dataframe tbody tr th {\n",
       "        vertical-align: top;\n",
       "    }\n",
       "\n",
       "    .dataframe thead th {\n",
       "        text-align: right;\n",
       "    }\n",
       "</style>\n",
       "<table border=\"1\" class=\"dataframe\">\n",
       "  <thead>\n",
       "    <tr style=\"text-align: right;\">\n",
       "      <th></th>\n",
       "      <th>date</th>\n",
       "      <th>Open</th>\n",
       "      <th>High</th>\n",
       "      <th>Low</th>\n",
       "      <th>close</th>\n",
       "      <th>Vol.</th>\n",
       "      <th>Change %</th>\n",
       "      <th>Year</th>\n",
       "      <th>Month</th>\n",
       "      <th>Day</th>\n",
       "      <th>dayOfWeek</th>\n",
       "      <th>WeekOfYear</th>\n",
       "    </tr>\n",
       "  </thead>\n",
       "  <tbody>\n",
       "    <tr>\n",
       "      <th>0</th>\n",
       "      <td>2010-07-18</td>\n",
       "      <td>0</td>\n",
       "      <td>0.1</td>\n",
       "      <td>0.1</td>\n",
       "      <td>0.1</td>\n",
       "      <td>0.08K</td>\n",
       "      <td>0.00%</td>\n",
       "      <td>2010</td>\n",
       "      <td>7</td>\n",
       "      <td>18</td>\n",
       "      <td>Sunday</td>\n",
       "      <td>28</td>\n",
       "    </tr>\n",
       "    <tr>\n",
       "      <th>1</th>\n",
       "      <td>2010-07-19</td>\n",
       "      <td>0.1</td>\n",
       "      <td>0.1</td>\n",
       "      <td>0.1</td>\n",
       "      <td>0.1</td>\n",
       "      <td>0.57K</td>\n",
       "      <td>0.00%</td>\n",
       "      <td>2010</td>\n",
       "      <td>7</td>\n",
       "      <td>19</td>\n",
       "      <td>Monday</td>\n",
       "      <td>29</td>\n",
       "    </tr>\n",
       "    <tr>\n",
       "      <th>2</th>\n",
       "      <td>2010-07-20</td>\n",
       "      <td>0.1</td>\n",
       "      <td>0.1</td>\n",
       "      <td>0.1</td>\n",
       "      <td>0.1</td>\n",
       "      <td>0.26K</td>\n",
       "      <td>0.00%</td>\n",
       "      <td>2010</td>\n",
       "      <td>7</td>\n",
       "      <td>20</td>\n",
       "      <td>Tuesday</td>\n",
       "      <td>29</td>\n",
       "    </tr>\n",
       "    <tr>\n",
       "      <th>3</th>\n",
       "      <td>2010-07-21</td>\n",
       "      <td>0.1</td>\n",
       "      <td>0.1</td>\n",
       "      <td>0.1</td>\n",
       "      <td>0.1</td>\n",
       "      <td>0.58K</td>\n",
       "      <td>0.00%</td>\n",
       "      <td>2010</td>\n",
       "      <td>7</td>\n",
       "      <td>21</td>\n",
       "      <td>Wednesday</td>\n",
       "      <td>29</td>\n",
       "    </tr>\n",
       "    <tr>\n",
       "      <th>4</th>\n",
       "      <td>2010-07-22</td>\n",
       "      <td>0.1</td>\n",
       "      <td>0.1</td>\n",
       "      <td>0.1</td>\n",
       "      <td>0.1</td>\n",
       "      <td>2.16K</td>\n",
       "      <td>0.00%</td>\n",
       "      <td>2010</td>\n",
       "      <td>7</td>\n",
       "      <td>22</td>\n",
       "      <td>Thursday</td>\n",
       "      <td>29</td>\n",
       "    </tr>\n",
       "    <tr>\n",
       "      <th>...</th>\n",
       "      <td>...</td>\n",
       "      <td>...</td>\n",
       "      <td>...</td>\n",
       "      <td>...</td>\n",
       "      <td>...</td>\n",
       "      <td>...</td>\n",
       "      <td>...</td>\n",
       "      <td>...</td>\n",
       "      <td>...</td>\n",
       "      <td>...</td>\n",
       "      <td>...</td>\n",
       "      <td>...</td>\n",
       "    </tr>\n",
       "    <tr>\n",
       "      <th>414</th>\n",
       "      <td>2011-09-05</td>\n",
       "      <td>8.2</td>\n",
       "      <td>8.2</td>\n",
       "      <td>7.3</td>\n",
       "      <td>7.6</td>\n",
       "      <td>30.80K</td>\n",
       "      <td>-6.97%</td>\n",
       "      <td>2011</td>\n",
       "      <td>9</td>\n",
       "      <td>5</td>\n",
       "      <td>Monday</td>\n",
       "      <td>36</td>\n",
       "    </tr>\n",
       "    <tr>\n",
       "      <th>415</th>\n",
       "      <td>2011-09-06</td>\n",
       "      <td>7.6</td>\n",
       "      <td>7.7</td>\n",
       "      <td>6.1</td>\n",
       "      <td>6.9</td>\n",
       "      <td>82.50K</td>\n",
       "      <td>-9.86%</td>\n",
       "      <td>2011</td>\n",
       "      <td>9</td>\n",
       "      <td>6</td>\n",
       "      <td>Tuesday</td>\n",
       "      <td>36</td>\n",
       "    </tr>\n",
       "    <tr>\n",
       "      <th>416</th>\n",
       "      <td>2011-09-07</td>\n",
       "      <td>6.9</td>\n",
       "      <td>7.6</td>\n",
       "      <td>6.5</td>\n",
       "      <td>7.2</td>\n",
       "      <td>49.64K</td>\n",
       "      <td>4.81%</td>\n",
       "      <td>2011</td>\n",
       "      <td>9</td>\n",
       "      <td>7</td>\n",
       "      <td>Wednesday</td>\n",
       "      <td>36</td>\n",
       "    </tr>\n",
       "    <tr>\n",
       "      <th>417</th>\n",
       "      <td>2011-09-08</td>\n",
       "      <td>7.2</td>\n",
       "      <td>7.2</td>\n",
       "      <td>6.5</td>\n",
       "      <td>6.5</td>\n",
       "      <td>31.89K</td>\n",
       "      <td>-9.18%</td>\n",
       "      <td>2011</td>\n",
       "      <td>9</td>\n",
       "      <td>8</td>\n",
       "      <td>Thursday</td>\n",
       "      <td>36</td>\n",
       "    </tr>\n",
       "    <tr>\n",
       "      <th>418</th>\n",
       "      <td>2011-09-09</td>\n",
       "      <td>6.5</td>\n",
       "      <td>6.6</td>\n",
       "      <td>4.2</td>\n",
       "      <td>5.0</td>\n",
       "      <td>217.43K</td>\n",
       "      <td>-22.97%</td>\n",
       "      <td>2011</td>\n",
       "      <td>9</td>\n",
       "      <td>9</td>\n",
       "      <td>Friday</td>\n",
       "      <td>36</td>\n",
       "    </tr>\n",
       "  </tbody>\n",
       "</table>\n",
       "<p>419 rows × 12 columns</p>\n",
       "</div>"
      ],
      "text/plain": [
       "          date Open High  Low  close     Vol. Change %  Year  Month  Day  \\\n",
       "0   2010-07-18    0  0.1  0.1    0.1    0.08K    0.00%  2010      7   18   \n",
       "1   2010-07-19  0.1  0.1  0.1    0.1    0.57K    0.00%  2010      7   19   \n",
       "2   2010-07-20  0.1  0.1  0.1    0.1    0.26K    0.00%  2010      7   20   \n",
       "3   2010-07-21  0.1  0.1  0.1    0.1    0.58K    0.00%  2010      7   21   \n",
       "4   2010-07-22  0.1  0.1  0.1    0.1    2.16K    0.00%  2010      7   22   \n",
       "..         ...  ...  ...  ...    ...      ...      ...   ...    ...  ...   \n",
       "414 2011-09-05  8.2  8.2  7.3    7.6   30.80K   -6.97%  2011      9    5   \n",
       "415 2011-09-06  7.6  7.7  6.1    6.9   82.50K   -9.86%  2011      9    6   \n",
       "416 2011-09-07  6.9  7.6  6.5    7.2   49.64K    4.81%  2011      9    7   \n",
       "417 2011-09-08  7.2  7.2  6.5    6.5   31.89K   -9.18%  2011      9    8   \n",
       "418 2011-09-09  6.5  6.6  4.2    5.0  217.43K  -22.97%  2011      9    9   \n",
       "\n",
       "     dayOfWeek  WeekOfYear  \n",
       "0       Sunday          28  \n",
       "1       Monday          29  \n",
       "2      Tuesday          29  \n",
       "3    Wednesday          29  \n",
       "4     Thursday          29  \n",
       "..         ...         ...  \n",
       "414     Monday          36  \n",
       "415    Tuesday          36  \n",
       "416  Wednesday          36  \n",
       "417   Thursday          36  \n",
       "418     Friday          36  \n",
       "\n",
       "[419 rows x 12 columns]"
      ]
     },
     "execution_count": 6,
     "metadata": {},
     "output_type": "execute_result"
    }
   ],
   "source": [
    "ss['Year'] = ss['date'].dt.year\n",
    "ss['Month'] =ss['date'].dt.month\n",
    "ss['Day'] = ss['date'].dt.day\n",
    "ss['dayOfWeek'] = ss['date'].dt.day_name()\n",
    "ss['WeekOfYear'] = ss['date'].dt.weekofyear\n",
    "\n",
    "ss.head(419)"
   ]
  },
  {
   "cell_type": "code",
   "execution_count": 7,
   "metadata": {},
   "outputs": [
    {
     "data": {
      "text/plain": [
       "<AxesSubplot:xlabel='Month', ylabel='close'>"
      ]
     },
     "execution_count": 7,
     "metadata": {},
     "output_type": "execute_result"
    },
    {
     "data": {
      "image/png": "[encoded data removed]",
      "text/plain": [
       "<Figure size 432x288 with 1 Axes>"
      ]
     },
     "metadata": {
      "needs_background": "light"
     },
     "output_type": "display_data"
    }
   ],
   "source": [
    "sns.barplot(x='Month', y='close', data=ss)"
   ]
  },
  {
   "cell_type": "code",
   "execution_count": 8,
   "metadata": {},
   "outputs": [
    {
     "data": {
      "text/plain": [
       "<AxesSubplot:xlabel='Day', ylabel='close'>"
      ]
     },
     "execution_count": 8,
     "metadata": {},
     "output_type": "execute_result"
    },
    {
     "data": {
      "image/png": "[encoded data removed]",
      "text/plain": [
       "<Figure size 432x288 with 1 Axes>"
      ]
     },
     "metadata": {
      "needs_background": "light"
     },
     "output_type": "display_data"
    }
   ],
   "source": [
    "sns.barplot(x='Day', y='close', data=ss)"
   ]
  },
  {
   "cell_type": "code",
   "execution_count": 9,
   "metadata": {},
   "outputs": [
    {
     "data": {
      "text/plain": [
       "<AxesSubplot:xlabel='dayOfWeek', ylabel='close'>"
      ]
     },
     "execution_count": 9,
     "metadata": {},
     "output_type": "execute_result"
    },
    {
     "data": {
      "image/png": "[encoded data removed]",
      "text/plain": [
       "<Figure size 432x288 with 1 Axes>"
      ]
     },
     "metadata": {
      "needs_background": "light"
     },
     "output_type": "display_data"
    }
   ],
   "source": [
    "sns.barplot(x='dayOfWeek', y='close', data=ss)"
   ]
  },
  {
   "cell_type": "code",
   "execution_count": 10,
   "metadata": {},
   "outputs": [
    {
     "data": {
      "text/plain": [
       "<AxesSubplot:xlabel='WeekOfYear', ylabel='close'>"
      ]
     },
     "execution_count": 10,
     "metadata": {},
     "output_type": "execute_result"
    },
    {
     "data": {
      "image/png": "[encoded data removed]",
      "text/plain": [
       "<Figure size 432x288 with 1 Axes>"
      ]
     },
     "metadata": {
      "needs_background": "light"
     },
     "output_type": "display_data"
    }
   ],
   "source": [
    "sns.barplot(x='WeekOfYear', y='close', data=ss)"
   ]
  },
  {
   "cell_type": "code",
   "execution_count": 11,
   "metadata": {},
   "outputs": [
    {
     "data": {
      "text/plain": [
       "<AxesSubplot:xlabel='Year', ylabel='close'>"
      ]
     },
     "execution_count": 11,
     "metadata": {},
     "output_type": "execute_result"
    },
    {
     "data": {
      "image/png": "[encoded data removed]",
      "text/plain": [
       "<Figure size 432x288 with 1 Axes>"
      ]
     },
     "metadata": {
      "needs_background": "light"
     },
     "output_type": "display_data"
    }
   ],
   "source": [
    "sns.barplot(x='Year', y='close', data=ss)"
   ]
  },
  {
   "cell_type": "code",
   "execution_count": 12,
   "metadata": {},
   "outputs": [
    {
     "data": {
      "text/plain": [
       "array(['Sunday', 'Monday', 'Tuesday', 'Wednesday', 'Thursday', 'Friday',\n",
       "       'Saturday'], dtype=object)"
      ]
     },
     "execution_count": 12,
     "metadata": {},
     "output_type": "execute_result"
    }
   ],
   "source": [
    "ss['dayOfWeek'].unique()"
   ]
  },
  {
   "cell_type": "code",
   "execution_count": 13,
   "metadata": {},
   "outputs": [],
   "source": [
    "ss.loc[ss['dayOfWeek']=='Sunday', 'dayOfWeek'] = 0\n",
    "ss.loc[ss['dayOfWeek']=='Monday', 'dayOfWeek'] = 1\n",
    "ss.loc[ss['dayOfWeek']=='Tuesday', 'dayOfWeek'] = 2\n",
    "ss.loc[ss['dayOfWeek']=='Wednesday', 'dayOfWeek'] = 3\n",
    "ss.loc[ss['dayOfWeek']=='Thursday', 'dayOfWeek'] = 4\n",
    "ss.loc[ss['dayOfWeek']=='Friday', 'dayOfWeek'] = 5\n",
    "ss.loc[ss['dayOfWeek']=='Saturday', 'dayOfWeek'] = 6"
   ]
  },
  {
   "cell_type": "code",
   "execution_count": 14,
   "metadata": {},
   "outputs": [],
   "source": [
    "y=ss['close']"
   ]
  },
  {
   "cell_type": "code",
   "execution_count": 15,
   "metadata": {},
   "outputs": [],
   "source": [
    "X = ss[['Day','dayOfWeek','Month','Year']]"
   ]
  },
  {
   "cell_type": "code",
   "execution_count": 16,
   "metadata": {},
   "outputs": [],
   "source": [
    "poly2 = PolynomialFeatures(degree =2)\n",
    "X_poly = poly2.fit_transform(X)"
   ]
  },
  {
   "cell_type": "code",
   "execution_count": 17,
   "metadata": {},
   "outputs": [
    {
     "data": {
      "text/plain": [
       "RandomForestRegressor(n_estimators=50, random_state=0)"
      ]
     },
     "execution_count": 17,
     "metadata": {},
     "output_type": "execute_result"
    }
   ],
   "source": [
    "from sklearn.ensemble import RandomForestRegressor\n",
    "\n",
    "regressor = RandomForestRegressor(n_estimators=50, random_state=0)\n",
    "regressor.fit(X_poly,y)"
   ]
  },
  {
   "cell_type": "code",
   "execution_count": 18,
   "metadata": {},
   "outputs": [
    {
     "name": "stdout",
     "output_type": "stream",
     "text": [
      "0.999586432705594\n"
     ]
    }
   ],
   "source": [
    "print(regressor.score(X_poly,y))"
   ]
  },
  {
   "cell_type": "code",
   "execution_count": 19,
   "metadata": {},
   "outputs": [],
   "source": [
    "Day = 6\n",
    "\n",
    "dayOfWeek =1\n",
    "\n",
    "Month =11\n",
    "Year =2021\n",
    "\n",
    "\n",
    "#Samples = Samples_31_July[0,0]\n",
    "X1 = np.array([[Day,dayOfWeek,Month,Year]])\n",
    "Total_infections  = regressor.predict(poly2.fit_transform(X1))"
   ]
  },
  {
   "cell_type": "code",
   "execution_count": 20,
   "metadata": {},
   "outputs": [
    {
     "name": "stdout",
     "output_type": "stream",
     "text": [
      "Total No of cases -> 61300\n"
     ]
    }
   ],
   "source": [
    "print('Total No of cases -> {}'.format(int(Total_infections[0])))"
   ]
  },
  {
   "cell_type": "code",
   "execution_count": 19,
   "metadata": {},
   "outputs": [],
   "source": [
    "import pickle\n",
    "\n",
    "pickle.dump(poly2,open('poly.pkl','wb'))\n",
    "pol = pickle.load(open('poly.pkl','rb'))"
   ]
  },
  {
   "cell_type": "code",
   "execution_count": 20,
   "metadata": {},
   "outputs": [],
   "source": [
    "import pickle\n",
    "\n",
    "pickle.dump(regressor,open('regressor.pkl','wb'))\n",
    "regresso = pickle.load(open('regressor.pkl','rb'))"
   ]
  },
  {
   "cell_type": "code",
   "execution_count": null,
   "metadata": {},
   "outputs": [],
   "source": []
  }
 ],
 "metadata": {
  "kernelspec": {
   "display_name": "Python 3",
   "language": "python",
   "name": "python3"
  },
  "language_info": {
   "codemirror_mode": {
    "name": "ipython",
    "version": 3
   },
   "file_extension": ".py",
   "mimetype": "text/x-python",
   "name": "python",
   "nbconvert_exporter": "python",
   "pygments_lexer": "ipython3",
   "version": "3.8.8"
  }
 },
 "nbformat": 4,
 "nbformat_minor": 4
}
